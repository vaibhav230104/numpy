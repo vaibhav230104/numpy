{
 "cells": [
  {
   "cell_type": "code",
   "execution_count": 19,
   "id": "bc3dffe9-9688-4fd3-96f6-bfcf7e958276",
   "metadata": {},
   "outputs": [],
   "source": [
    "import pandas as pd"
   ]
  },
  {
   "cell_type": "code",
   "execution_count": 13,
   "id": "a1e0c35c-067a-422b-aa7d-15e03529d4a7",
   "metadata": {},
   "outputs": [
    {
     "name": "stdout",
     "output_type": "stream",
     "text": [
      "    Name  Age      City\n",
      "0   John   25  New York\n",
      "1  Alice   28    London\n",
      "2    Bob   30     Paris\n",
      "count     5.000000\n",
      "mean     28.400000\n",
      "std       2.701851\n",
      "min      25.000000\n",
      "25%      27.000000\n",
      "50%      28.000000\n",
      "75%      30.000000\n",
      "max      32.000000\n",
      "Name: Age, dtype: float64\n",
      "City\n",
      "London      28.0\n",
      "New York    25.0\n",
      "Paris       30.0\n",
      "Sydney      32.0\n",
      "Toronto     27.0\n",
      "Name: Age, dtype: float64\n",
      "     A      B      C\n",
      "0  1.0   6.00  11.00\n",
      "1  2.0   8.25  12.00\n",
      "2  3.0   8.00  13.00\n",
      "3  4.0   9.00  12.75\n",
      "4  5.0  10.00  15.00\n"
     ]
    }
   ],
   "source": [
    "#Q1\n",
    "'''read_csv(): This function is used to read data from a CSV file and create a DataFrame.\n",
    "head(): This function returns the first few rows of a DataFrame. By default, it displays the first five rows.\n",
    "describe(): This function generates summary statistics of the numerical columns in a DataFrame, such as count, mean, standard deviation, minimum, and maximum values.\n",
    "groupby(): This function is used to group data based on one or more columns. It allows you to perform operations on specific groups or calculate aggregate statistics for each group.\n",
    "fillna(): This function is used to fill missing values in a DataFrame with a specified value or a calculated value based on a given method.'''\n",
    "\n",
    "# Read a CSV file and create a DataFrame\n",
    "#df = pd.read_csv('abc.csv')\n",
    "\n",
    "# Display the DataFrame\n",
    "#print(df)\n",
    "\n",
    "# Create a DataFrame\n",
    "data = {'Name': ['John', 'Alice', 'Bob', 'Lisa', 'Mike'],\n",
    "        'Age': [25, 28, 30, 32, 27],\n",
    "        'City': ['New York', 'London', 'Paris', 'Sydney', 'Toronto']}\n",
    "df2 = pd.DataFrame(data)\n",
    "\n",
    "# Display the first three rows of the DataFrame\n",
    "print(df2.head(3))\n",
    "\n",
    "\n",
    "df3 = pd.DataFrame(data)\n",
    "\n",
    "# Generate summary statistics of the numerical column 'Age'\n",
    "print(df3['Age'].describe())\n",
    "\n",
    "\n",
    "\n",
    "df4 = pd.DataFrame(data)\n",
    "\n",
    "# Group the data by the 'City' column and calculate the average age for each city\n",
    "grouped_data = df4.groupby('City')['Age'].mean()\n",
    "print(grouped_data)\n",
    "\n",
    "\n",
    "\n",
    "import numpy as np\n",
    "\n",
    "# Create a DataFrame with missing values\n",
    "data = {'A': [1, 2, np.nan, 4, 5],\n",
    "        'B': [6, np.nan, 8, 9, 10],\n",
    "        'C': [11, 12, 13, np.nan, 15]}\n",
    "df5 = pd.DataFrame(data)\n",
    "\n",
    "# Fill missing values with the mean of each column\n",
    "df5_filled = df5.fillna(df5.mean())\n",
    "print(df5_filled)\n"
   ]
  },
  {
   "cell_type": "code",
   "execution_count": 14,
   "id": "1c180139-22c8-4bb7-a050-6718658e267e",
   "metadata": {},
   "outputs": [
    {
     "name": "stdout",
     "output_type": "stream",
     "text": [
      "   A  B  C\n",
      "1  1  4  7\n",
      "3  2  5  8\n",
      "5  3  6  9\n"
     ]
    }
   ],
   "source": [
    "#Q2\n",
    "DataFrame = {'A':[1,2,3],\n",
    "            'B':[4,5,6],\n",
    "            'C':[7,8,9]}\n",
    "df = pd.DataFrame(DataFrame,index = [1,3,5])\n",
    "print(df)\n",
    "\n"
   ]
  },
  {
   "cell_type": "code",
   "execution_count": 15,
   "id": "5604df34-1ae4-4d74-8f3f-f4f8c2d846f7",
   "metadata": {},
   "outputs": [
    {
     "data": {
      "text/plain": [
       "Values    60\n",
       "dtype: int64"
      ]
     },
     "execution_count": 15,
     "metadata": {},
     "output_type": "execute_result"
    }
   ],
   "source": [
    "#Q3\n",
    "DataFrame = {'Values':[10, 20, 30, 40, 50]}\n",
    "df = pd.DataFrame(DataFrame)\n",
    "df_sum = df.head(3)\n",
    "df_sum.sum()"
   ]
  },
  {
   "cell_type": "code",
   "execution_count": 29,
   "id": "e1606937-cd8e-4f0f-8094-2d7cd9c8fc3a",
   "metadata": {},
   "outputs": [
    {
     "data": {
      "text/html": [
       "<div>\n",
       "<style scoped>\n",
       "    .dataframe tbody tr th:only-of-type {\n",
       "        vertical-align: middle;\n",
       "    }\n",
       "\n",
       "    .dataframe tbody tr th {\n",
       "        vertical-align: top;\n",
       "    }\n",
       "\n",
       "    .dataframe thead th {\n",
       "        text-align: right;\n",
       "    }\n",
       "</style>\n",
       "<table border=\"1\" class=\"dataframe\">\n",
       "  <thead>\n",
       "    <tr style=\"text-align: right;\">\n",
       "      <th></th>\n",
       "      <th>Text</th>\n",
       "      <th>Word_Count</th>\n",
       "    </tr>\n",
       "  </thead>\n",
       "  <tbody>\n",
       "    <tr>\n",
       "      <th>0</th>\n",
       "      <td>My name is Vaibhav</td>\n",
       "      <td>4</td>\n",
       "    </tr>\n",
       "    <tr>\n",
       "      <th>1</th>\n",
       "      <td>I study in IIT Mandi</td>\n",
       "      <td>5</td>\n",
       "    </tr>\n",
       "    <tr>\n",
       "      <th>2</th>\n",
       "      <td>I am a Civil Engineer of IIT Mandi</td>\n",
       "      <td>8</td>\n",
       "    </tr>\n",
       "    <tr>\n",
       "      <th>3</th>\n",
       "      <td>Indian Institute Of Technology Mandi</td>\n",
       "      <td>5</td>\n",
       "    </tr>\n",
       "  </tbody>\n",
       "</table>\n",
       "</div>"
      ],
      "text/plain": [
       "                                   Text  Word_Count\n",
       "0                    My name is Vaibhav           4\n",
       "1                  I study in IIT Mandi           5\n",
       "2    I am a Civil Engineer of IIT Mandi           8\n",
       "3  Indian Institute Of Technology Mandi           5"
      ]
     },
     "execution_count": 29,
     "metadata": {},
     "output_type": "execute_result"
    }
   ],
   "source": [
    "#Q4\n",
    "DataFrame = {'Text':['My name is Vaibhav','I study in IIT Mandi','I am a Civil Engineer of IIT Mandi','Indian Institute Of Technology Mandi']}\n",
    "df = pd.DataFrame(DataFrame)\n",
    "df['Word_Count']=df['Text'].apply(lambda x: len(x.split()))\n",
    "df"
   ]
  },
  {
   "cell_type": "code",
   "execution_count": 6,
   "id": "af4ccac0-ed0f-48fe-859c-8ca506c72fd1",
   "metadata": {},
   "outputs": [
    {
     "name": "stdout",
     "output_type": "stream",
     "text": [
      "9\n",
      "(3, 3)\n"
     ]
    }
   ],
   "source": [
    "#Q5\n",
    "DataFrame = {'A':[1,2,3],\n",
    "            'B':[4,5,6],\n",
    "            'C':[7,8,9]}\n",
    "df = pd.DataFrame(DataFrame)\n",
    "print(df.size)   # due to 3 row and 3 column so 3*3 = 9 output\n",
    "print(df.shape)  # it shows 3 row and 3 column "
   ]
  },
  {
   "cell_type": "code",
   "execution_count": 7,
   "id": "50ab0eba-1427-4ac5-8d69-e156ddc0ad2f",
   "metadata": {},
   "outputs": [],
   "source": [
    "#Q6\n",
    "#pd.read_excel()"
   ]
  },
  {
   "cell_type": "code",
   "execution_count": 17,
   "id": "80101fc5-d840-4dca-a007-c853877ff018",
   "metadata": {},
   "outputs": [
    {
     "data": {
      "text/html": [
       "<div>\n",
       "<style scoped>\n",
       "    .dataframe tbody tr th:only-of-type {\n",
       "        vertical-align: middle;\n",
       "    }\n",
       "\n",
       "    .dataframe tbody tr th {\n",
       "        vertical-align: top;\n",
       "    }\n",
       "\n",
       "    .dataframe thead th {\n",
       "        text-align: right;\n",
       "    }\n",
       "</style>\n",
       "<table border=\"1\" class=\"dataframe\">\n",
       "  <thead>\n",
       "    <tr style=\"text-align: right;\">\n",
       "      <th></th>\n",
       "      <th>Email</th>\n",
       "      <th>Username</th>\n",
       "    </tr>\n",
       "  </thead>\n",
       "  <tbody>\n",
       "    <tr>\n",
       "      <th>0</th>\n",
       "      <td>vaibhav@gmail.com</td>\n",
       "      <td>vaibhav</td>\n",
       "    </tr>\n",
       "    <tr>\n",
       "      <th>1</th>\n",
       "      <td>narayan@gmail.com</td>\n",
       "      <td>narayan</td>\n",
       "    </tr>\n",
       "    <tr>\n",
       "      <th>2</th>\n",
       "      <td>john@gmail.com</td>\n",
       "      <td>john</td>\n",
       "    </tr>\n",
       "  </tbody>\n",
       "</table>\n",
       "</div>"
      ],
      "text/plain": [
       "               Email Username\n",
       "0  vaibhav@gmail.com  vaibhav\n",
       "1  narayan@gmail.com  narayan\n",
       "2     john@gmail.com     john"
      ]
     },
     "execution_count": 17,
     "metadata": {},
     "output_type": "execute_result"
    }
   ],
   "source": [
    "#Q7\n",
    "\n",
    "df = pd.DataFrame({'Email':['vaibhav@gmail.com','narayan@gmail.com','john@gmail.com']})\n",
    "df['Username']=df['Email'].apply(lambda x: x.split('@')[0])\n",
    "df"
   ]
  },
  {
   "cell_type": "code",
   "execution_count": 32,
   "id": "f41a5423-34ef-4b90-beb6-60ac99bb9f4a",
   "metadata": {},
   "outputs": [
    {
     "name": "stdout",
     "output_type": "stream",
     "text": [
      "   A  B  C\n",
      "1  8  2  7\n",
      "2  6  9  4\n",
      "4  9  1  2\n"
     ]
    },
    {
     "data": {
      "text/html": [
       "<div>\n",
       "<style scoped>\n",
       "    .dataframe tbody tr th:only-of-type {\n",
       "        vertical-align: middle;\n",
       "    }\n",
       "\n",
       "    .dataframe tbody tr th {\n",
       "        vertical-align: top;\n",
       "    }\n",
       "\n",
       "    .dataframe thead th {\n",
       "        text-align: right;\n",
       "    }\n",
       "</style>\n",
       "<table border=\"1\" class=\"dataframe\">\n",
       "  <thead>\n",
       "    <tr style=\"text-align: right;\">\n",
       "      <th></th>\n",
       "      <th>A</th>\n",
       "      <th>B</th>\n",
       "      <th>C</th>\n",
       "    </tr>\n",
       "  </thead>\n",
       "  <tbody>\n",
       "    <tr>\n",
       "      <th>1</th>\n",
       "      <td>8</td>\n",
       "      <td>2</td>\n",
       "      <td>7</td>\n",
       "    </tr>\n",
       "    <tr>\n",
       "      <th>2</th>\n",
       "      <td>6</td>\n",
       "      <td>9</td>\n",
       "      <td>4</td>\n",
       "    </tr>\n",
       "    <tr>\n",
       "      <th>4</th>\n",
       "      <td>9</td>\n",
       "      <td>1</td>\n",
       "      <td>2</td>\n",
       "    </tr>\n",
       "  </tbody>\n",
       "</table>\n",
       "</div>"
      ],
      "text/plain": [
       "   A  B  C\n",
       "1  8  2  7\n",
       "2  6  9  4\n",
       "4  9  1  2"
      ]
     },
     "execution_count": 32,
     "metadata": {},
     "output_type": "execute_result"
    }
   ],
   "source": [
    "#Q8\n",
    "df1 = pd.DataFrame({'A':[3,8,6,2,9],\n",
    "                   'B':[5,2,9,3,1],\n",
    "                   'C':[1,7,4,5,2]})\n",
    "selected_rows = df1[(df1['A'] > 5) & (df1['B'] < 10)]\n",
    "print(selected_rows)\n",
    "new_DataFrame = pd.DataFrame(selected_rows)\n",
    "new_DataFrame"
   ]
  },
  {
   "cell_type": "code",
   "execution_count": 8,
   "id": "c11e738d-d183-49ee-81c2-4da16b000bf2",
   "metadata": {},
   "outputs": [
    {
     "name": "stdout",
     "output_type": "stream",
     "text": [
      "Values    30.0\n",
      "dtype: float64\n",
      "Values    30.0\n",
      "dtype: float64\n",
      "Values    15.811388\n",
      "dtype: float64\n"
     ]
    }
   ],
   "source": [
    "#Q9\n",
    "df = pd.DataFrame({'Values':[10, 20, 30, 40, 50]})\n",
    "mean = df.mean()\n",
    "median = df.median()\n",
    "std_dev = df.std()\n",
    "print(mean)\n",
    "print(median)\n",
    "print(std_dev)"
   ]
  },
  {
   "cell_type": "code",
   "execution_count": 11,
   "id": "af7401be-0709-45b3-a3d9-4497476a3a95",
   "metadata": {},
   "outputs": [
    {
     "data": {
      "text/html": [
       "<div>\n",
       "<style scoped>\n",
       "    .dataframe tbody tr th:only-of-type {\n",
       "        vertical-align: middle;\n",
       "    }\n",
       "\n",
       "    .dataframe tbody tr th {\n",
       "        vertical-align: top;\n",
       "    }\n",
       "\n",
       "    .dataframe thead th {\n",
       "        text-align: right;\n",
       "    }\n",
       "</style>\n",
       "<table border=\"1\" class=\"dataframe\">\n",
       "  <thead>\n",
       "    <tr style=\"text-align: right;\">\n",
       "      <th></th>\n",
       "      <th>Sales</th>\n",
       "      <th>MovingAverage</th>\n",
       "    </tr>\n",
       "  </thead>\n",
       "  <tbody>\n",
       "    <tr>\n",
       "      <th>0</th>\n",
       "      <td>10</td>\n",
       "      <td>10.0</td>\n",
       "    </tr>\n",
       "    <tr>\n",
       "      <th>1</th>\n",
       "      <td>20</td>\n",
       "      <td>15.0</td>\n",
       "    </tr>\n",
       "    <tr>\n",
       "      <th>2</th>\n",
       "      <td>30</td>\n",
       "      <td>20.0</td>\n",
       "    </tr>\n",
       "    <tr>\n",
       "      <th>3</th>\n",
       "      <td>40</td>\n",
       "      <td>25.0</td>\n",
       "    </tr>\n",
       "    <tr>\n",
       "      <th>4</th>\n",
       "      <td>50</td>\n",
       "      <td>30.0</td>\n",
       "    </tr>\n",
       "    <tr>\n",
       "      <th>5</th>\n",
       "      <td>60</td>\n",
       "      <td>35.0</td>\n",
       "    </tr>\n",
       "    <tr>\n",
       "      <th>6</th>\n",
       "      <td>70</td>\n",
       "      <td>40.0</td>\n",
       "    </tr>\n",
       "    <tr>\n",
       "      <th>7</th>\n",
       "      <td>80</td>\n",
       "      <td>50.0</td>\n",
       "    </tr>\n",
       "    <tr>\n",
       "      <th>8</th>\n",
       "      <td>90</td>\n",
       "      <td>60.0</td>\n",
       "    </tr>\n",
       "    <tr>\n",
       "      <th>9</th>\n",
       "      <td>100</td>\n",
       "      <td>70.0</td>\n",
       "    </tr>\n",
       "  </tbody>\n",
       "</table>\n",
       "</div>"
      ],
      "text/plain": [
       "   Sales  MovingAverage\n",
       "0     10           10.0\n",
       "1     20           15.0\n",
       "2     30           20.0\n",
       "3     40           25.0\n",
       "4     50           30.0\n",
       "5     60           35.0\n",
       "6     70           40.0\n",
       "7     80           50.0\n",
       "8     90           60.0\n",
       "9    100           70.0"
      ]
     },
     "execution_count": 11,
     "metadata": {},
     "output_type": "execute_result"
    }
   ],
   "source": [
    "#Q10\n",
    "df = pd.DataFrame({'Sales':[10, 20, 30, 40, 50,60,70,80,90,100]})\n",
    "df['MovingAverage'] = df['Sales'].rolling(window=7, min_periods=1).mean()\n",
    "df\n"
   ]
  },
  {
   "cell_type": "code",
   "execution_count": 38,
   "id": "8202d221-45fd-4fca-bd90-f97c57770fdc",
   "metadata": {},
   "outputs": [
    {
     "data": {
      "text/html": [
       "<div>\n",
       "<style scoped>\n",
       "    .dataframe tbody tr th:only-of-type {\n",
       "        vertical-align: middle;\n",
       "    }\n",
       "\n",
       "    .dataframe tbody tr th {\n",
       "        vertical-align: top;\n",
       "    }\n",
       "\n",
       "    .dataframe thead th {\n",
       "        text-align: right;\n",
       "    }\n",
       "</style>\n",
       "<table border=\"1\" class=\"dataframe\">\n",
       "  <thead>\n",
       "    <tr style=\"text-align: right;\">\n",
       "      <th></th>\n",
       "      <th>Date</th>\n",
       "      <th>Weekday</th>\n",
       "    </tr>\n",
       "  </thead>\n",
       "  <tbody>\n",
       "    <tr>\n",
       "      <th>0</th>\n",
       "      <td>2023-01-01</td>\n",
       "      <td>Sunday</td>\n",
       "    </tr>\n",
       "    <tr>\n",
       "      <th>1</th>\n",
       "      <td>2023-01-02</td>\n",
       "      <td>Monday</td>\n",
       "    </tr>\n",
       "    <tr>\n",
       "      <th>2</th>\n",
       "      <td>2023-01-03</td>\n",
       "      <td>Tuesday</td>\n",
       "    </tr>\n",
       "    <tr>\n",
       "      <th>3</th>\n",
       "      <td>2023-01-04</td>\n",
       "      <td>Wednesday</td>\n",
       "    </tr>\n",
       "    <tr>\n",
       "      <th>4</th>\n",
       "      <td>2023-01-05</td>\n",
       "      <td>Thursday</td>\n",
       "    </tr>\n",
       "  </tbody>\n",
       "</table>\n",
       "</div>"
      ],
      "text/plain": [
       "         Date    Weekday\n",
       "0  2023-01-01     Sunday\n",
       "1  2023-01-02     Monday\n",
       "2  2023-01-03    Tuesday\n",
       "3  2023-01-04  Wednesday\n",
       "4  2023-01-05   Thursday"
      ]
     },
     "execution_count": 38,
     "metadata": {},
     "output_type": "execute_result"
    }
   ],
   "source": [
    "#Q11\n",
    "df = pd.DataFrame({'Date':['2023-01-01','2023-01-02','2023-01-03','2023-01-04','2023-01-05']})\n",
    "df['Weekday'] = pd.to_datetime(df['Date']).dt.day_name()\n",
    "df"
   ]
  },
  {
   "cell_type": "code",
   "execution_count": null,
   "id": "16a6b102-caad-4f89-8cd3-7135df545052",
   "metadata": {},
   "outputs": [],
   "source": [
    "#Q12\n",
    "df['Date'] = pd.to_datetime(df['Date'])  # Convert 'Date' column to datetime if needed\n",
    "start_date = pd.to_datetime('2023-01-01')\n",
    "end_date = pd.to_datetime('2023-01-31')\n",
    "mask = (df['Date'] >= start_date) & (df['Date'] <= end_date)\n",
    "selected_rows = df[mask]\n",
    "selected_rows"
   ]
  },
  {
   "cell_type": "code",
   "execution_count": null,
   "id": "cbe55f32-094f-4dae-a63e-985a07c6ea0f",
   "metadata": {},
   "outputs": [],
   "source": [
    "#Q13\n",
    "import pandas as pd"
   ]
  }
 ],
 "metadata": {
  "kernelspec": {
   "display_name": "Python 3 (ipykernel)",
   "language": "python",
   "name": "python3"
  },
  "language_info": {
   "codemirror_mode": {
    "name": "ipython",
    "version": 3
   },
   "file_extension": ".py",
   "mimetype": "text/x-python",
   "name": "python",
   "nbconvert_exporter": "python",
   "pygments_lexer": "ipython3",
   "version": "3.10.8"
  }
 },
 "nbformat": 4,
 "nbformat_minor": 5
}
