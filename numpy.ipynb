{
 "cells": [
  {
   "cell_type": "code",
   "execution_count": 3,
   "id": "d78b9504-5973-410e-bde8-fece3fe4c602",
   "metadata": {},
   "outputs": [],
   "source": [
    "import pandas as pd"
   ]
  },
  {
   "cell_type": "code",
   "execution_count": 8,
   "id": "9795d96e-45ba-4770-b54d-2e88dd3509b4",
   "metadata": {},
   "outputs": [
    {
     "name": "stdout",
     "output_type": "stream",
     "text": [
      "0     4\n",
      "1     8\n",
      "2    15\n",
      "3    16\n",
      "4    23\n",
      "5    42\n",
      "dtype: int64\n"
     ]
    }
   ],
   "source": [
    "#Q1\n",
    "data = [4, 8, 15, 16, 23, 42]\n",
    "series = pd.Series(data)\n",
    "print(series)\n"
   ]
  },
  {
   "cell_type": "code",
   "execution_count": 9,
   "id": "5be80409-2cdd-479e-b7e6-d2f5105ce7b9",
   "metadata": {},
   "outputs": [
    {
     "name": "stdout",
     "output_type": "stream",
     "text": [
      "0     1\n",
      "1     2\n",
      "2     3\n",
      "3     4\n",
      "4     5\n",
      "5     6\n",
      "6     7\n",
      "7     8\n",
      "8     9\n",
      "9    10\n",
      "dtype: int64\n"
     ]
    }
   ],
   "source": [
    "#Q2\n",
    "data = [1, 2, 3, 4, 5, 6, 7, 8, 9, 10]\n",
    "series = pd.Series(data)\n",
    "\n",
    "print(series)\n"
   ]
  },
  {
   "cell_type": "code",
   "execution_count": 11,
   "id": "fcddf488-a1e2-41fc-ad4f-726d32716ed6",
   "metadata": {},
   "outputs": [
    {
     "name": "stdout",
     "output_type": "stream",
     "text": [
      "     Name  Age  Gender\n",
      "0   Alice   25  Female\n",
      "1     Bob   30    Male\n",
      "2  Claire   27  Female\n"
     ]
    }
   ],
   "source": [
    "#Q3\n",
    "DataFrame = pd.DataFrame({'Name':['Alice','Bob','Claire'],\n",
    "                          'Age':[25,30,27],\n",
    "                          'Gender':['Female','Male','Female']})\n",
    "print(DataFrame)"
   ]
  },
  {
   "cell_type": "code",
   "execution_count": 26,
   "id": "5fdb0b42-b3a2-494e-8972-790048e4c7be",
   "metadata": {},
   "outputs": [
    {
     "name": "stdout",
     "output_type": "stream",
     "text": [
      "DataFrame:\n",
      "      Name  Age         City\n",
      "0     John   25     New York\n",
      "1    Emily   30  Los Angeles\n",
      "2  Michael   35      Chicago\n",
      "Series:\n",
      "0    25\n",
      "1    30\n",
      "2    35\n",
      "dtype: int64\n"
     ]
    }
   ],
   "source": [
    "#Q4\n",
    "#In pandas, a DataFrame is a two-dimensional labeled data structure that consists of rows and columns. It can be thought of as a table or a spreadsheet where data is organized in a tabular format.\n",
    "\n",
    "#On the other hand, a Series is a one-dimensional labeled data structure in pandas that represents a column or a single variable. It can be considered as a single column of a DataFrame.\n",
    "\n",
    "\n",
    "data = {\n",
    "    'Name': ['John', 'Emily', 'Michael'],\n",
    "    'Age': [25, 30, 35],\n",
    "    'City': ['New York', 'Los Angeles', 'Chicago']\n",
    "}\n",
    "df = pd.DataFrame(data)\n",
    "print(\"DataFrame:\")\n",
    "print(df)\n",
    "\n",
    "\n",
    "ages = pd.Series([25, 30, 35])\n",
    "print(\"Series:\")\n",
    "print(ages)\n"
   ]
  },
  {
   "cell_type": "code",
   "execution_count": 24,
   "id": "ab8e71dd-8acb-4e25-be18-16efe8ae5ac4",
   "metadata": {
    "tags": []
   },
   "outputs": [
    {
     "name": "stdout",
     "output_type": "stream",
     "text": [
      "Product\n",
      "A    480\n",
      "B    270\n",
      "Name: Sales, dtype: int64\n"
     ]
    }
   ],
   "source": [
    "#Q5\n",
    "'''head() and tail(): These functions allow you to view the first few rows (head()) or the last few rows (tail()) of a DataFrame. They are useful for quickly inspecting the structure and contents of your data.\n",
    "\n",
    "info(): This function provides a summary of the DataFrame, including the column names, data types, and non-null values. It's useful for getting a quick overview of the dataset.\n",
    "\n",
    "describe(): This function generates descriptive statistics of the numerical columns in the DataFrame, such as count, mean, standard deviation, minimum, and maximum values. It helps in understanding the distribution and summary statistics of the data.\n",
    "\n",
    "shape: This attribute returns a tuple representing the dimensions of the DataFrame, i.e., the number of rows and columns.\n",
    "\n",
    "columns: This attribute returns a list of column names in the DataFrame.\n",
    "\n",
    "index: This attribute returns the index (row labels) of the DataFrame.\n",
    "\n",
    "loc[] and iloc[]: These functions are used for indexing and selecting data. loc[] is label-based, allowing you to select rows and columns by their labels, while iloc[] is integer-based and allows selection by index position.\n",
    "\n",
    "drop(): This function is used to remove rows or columns from the DataFrame based on specified labels. It helps in deleting unnecessary or redundant data.\n",
    "\n",
    "sort_values(): This function sorts the DataFrame by one or more columns. It is useful for arranging data in a specific order based on certain criteria.\n",
    "\n",
    "groupby(): This function is used for grouping data based on one or more columns. It allows you to perform operations on specific groups or calculate aggregate statistics for each group.\n",
    "\n",
    "fillna(): This function is used to fill missing values in the DataFrame with a specified value or a calculated value based on a given method.\n",
    "\n",
    "apply(): This function applies a given function to each element or column in the DataFrame. It is useful for performing custom computations or transformations on the data.'''\n",
    "\n",
    "\n",
    "# Create a DataFrame\n",
    "data = {'Product': ['A', 'B', 'A', 'B', 'A'],\n",
    "        'Sales': [100, 150, 200, 120, 180]}\n",
    "df = pd.DataFrame(data)\n",
    "\n",
    "# Group the data by 'Product' and calculate the total sales\n",
    "total_sales = df.groupby('Product')['Sales'].sum()\n",
    "print(total_sales)\n",
    "\n"
   ]
  },
  {
   "cell_type": "code",
   "execution_count": 25,
   "id": "d1f92cdd-43ef-4434-a5a9-434bf762f6cf",
   "metadata": {},
   "outputs": [],
   "source": [
    "#Q6\n",
    "#Series and DataFrame are mutable in nature, while Panel is not commonly used and considered deprecated in Pandas."
   ]
  },
  {
   "cell_type": "code",
   "execution_count": 27,
   "id": "dfeee5ad-0c91-4c43-89b7-af05d8b626d7",
   "metadata": {},
   "outputs": [
    {
     "name": "stdout",
     "output_type": "stream",
     "text": [
      "        name  age\n",
      "0    vaibhav   19\n",
      "1      anand   19\n",
      "2  prathmesh   18\n"
     ]
    }
   ],
   "source": [
    "#Q7\n",
    "name_series = pd.Series(['vaibhav','anand','prathmesh'])\n",
    "age_series = pd.Series([19,19,18])\n",
    "\n",
    "df = pd.DataFrame({'name':name_series,'age':age_series})\n",
    "print(df)"
   ]
  }
 ],
 "metadata": {
  "kernelspec": {
   "display_name": "Python 3 (ipykernel)",
   "language": "python",
   "name": "python3"
  },
  "language_info": {
   "codemirror_mode": {
    "name": "ipython",
    "version": 3
   },
   "file_extension": ".py",
   "mimetype": "text/x-python",
   "name": "python",
   "nbconvert_exporter": "python",
   "pygments_lexer": "ipython3",
   "version": "3.10.8"
  }
 },
 "nbformat": 4,
 "nbformat_minor": 5
}
